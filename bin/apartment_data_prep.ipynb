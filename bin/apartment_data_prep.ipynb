{
 "cells": [
  {
   "cell_type": "code",
   "execution_count": 1,
   "metadata": {},
   "outputs": [
    {
     "data": {
      "text/plain": [
       "'c:\\\\Users\\\\nik\\\\Desktop\\\\Berkeley_Projects\\\\LoadLanguageModel\\\\bin'"
      ]
     },
     "execution_count": 1,
     "metadata": {},
     "output_type": "execute_result"
    }
   ],
   "source": [
    "import pandas as pd\n",
    "import numpy as np\n",
    "import matplotlib.pyplot as plt\n",
    "import seaborn as sns\n",
    "import plotly.express as px\n",
    "from sklearn.preprocessing import MinMaxScaler\n",
    "import os\n",
    "\n",
    "os.getcwd()\n"
   ]
  },
  {
   "cell_type": "code",
   "execution_count": 2,
   "metadata": {},
   "outputs": [],
   "source": [
    "df = pd.read_csv('../data\\MFRED_Aggregates_15min_2019Q1-Q4.csv', index_col=0, parse_dates=True).filter(regex=r'^.*kW$')\n",
    "df = df.iloc[:, 1:]\n",
    "scaler = MinMaxScaler()\n",
    "\n",
    "df = pd.DataFrame(scaler.fit_transform(df), columns=df.columns, index=df.index)\n",
    "\n",
    "df = df.resample('1H').mean()\n",
    "df = df.stack().reset_index().rename(columns={'level_0': 'timestamp', 'level_1': 'apartment', 0: 'kW'})\n",
    "\n",
    "# drop the _Kw from the apartment names\n",
    "\n",
    "df['apartment'] = df['apartment'].str.replace('_kW', '')\n",
    "\n"
   ]
  },
  {
   "cell_type": "code",
   "execution_count": 3,
   "metadata": {},
   "outputs": [
    {
     "data": {
      "text/html": [
       "<div>\n",
       "<style scoped>\n",
       "    .dataframe tbody tr th:only-of-type {\n",
       "        vertical-align: middle;\n",
       "    }\n",
       "\n",
       "    .dataframe tbody tr th {\n",
       "        vertical-align: top;\n",
       "    }\n",
       "\n",
       "    .dataframe thead th {\n",
       "        text-align: right;\n",
       "    }\n",
       "</style>\n",
       "<table border=\"1\" class=\"dataframe\">\n",
       "  <thead>\n",
       "    <tr style=\"text-align: right;\">\n",
       "      <th></th>\n",
       "      <th>Apt. group</th>\n",
       "      <th>Time-averaged real power (σ) [W]</th>\n",
       "      <th>Number of bedrooms (σ)</th>\n",
       "      <th>Number of all rooms (σ)</th>\n",
       "      <th>Apt. area (σ) [m2]</th>\n",
       "    </tr>\n",
       "  </thead>\n",
       "  <tbody>\n",
       "    <tr>\n",
       "      <th>0</th>\n",
       "      <td>AG01</td>\n",
       "      <td>42</td>\n",
       "      <td>1.2</td>\n",
       "      <td>3.2</td>\n",
       "      <td>62</td>\n",
       "    </tr>\n",
       "    <tr>\n",
       "      <th>1</th>\n",
       "      <td>AG02</td>\n",
       "      <td>81</td>\n",
       "      <td>1.3</td>\n",
       "      <td>3.9</td>\n",
       "      <td>77</td>\n",
       "    </tr>\n",
       "    <tr>\n",
       "      <th>2</th>\n",
       "      <td>AG03</td>\n",
       "      <td>105</td>\n",
       "      <td>1.3</td>\n",
       "      <td>3.3</td>\n",
       "      <td>65</td>\n",
       "    </tr>\n",
       "    <tr>\n",
       "      <th>3</th>\n",
       "      <td>AG04</td>\n",
       "      <td>119</td>\n",
       "      <td>1.1</td>\n",
       "      <td>3.1</td>\n",
       "      <td>58</td>\n",
       "    </tr>\n",
       "    <tr>\n",
       "      <th>4</th>\n",
       "      <td>AG05</td>\n",
       "      <td>141</td>\n",
       "      <td>1.5</td>\n",
       "      <td>4.2</td>\n",
       "      <td>91</td>\n",
       "    </tr>\n",
       "  </tbody>\n",
       "</table>\n",
       "</div>"
      ],
      "text/plain": [
       "  Apt. group  Time-averaged real power (σ) [W]  Number of bedrooms (σ)  \\\n",
       "0       AG01                                42                     1.2   \n",
       "1       AG02                                81                     1.3   \n",
       "2       AG03                               105                     1.3   \n",
       "3       AG04                               119                     1.1   \n",
       "4       AG05                               141                     1.5   \n",
       "\n",
       "   Number of all rooms (σ)  Apt. area (σ) [m2]  \n",
       "0                      3.2                  62  \n",
       "1                      3.9                  77  \n",
       "2                      3.3                  65  \n",
       "3                      3.1                  58  \n",
       "4                      4.2                  91  "
      ]
     },
     "execution_count": 3,
     "metadata": {},
     "output_type": "execute_result"
    }
   ],
   "source": [
    "# reset index and call the first column apartment\n",
    "df_meta = pd.read_csv(\"../data/meta_data.csv\", index_col=0).iloc[:-1, :]\n",
    "df_meta = df_meta.reset_index().rename(columns={'AP ': 'apartment'})\n",
    "df_meta.head()"
   ]
  },
  {
   "cell_type": "code",
   "execution_count": 4,
   "metadata": {},
   "outputs": [
    {
     "data": {
      "text/html": [
       "<div>\n",
       "<style scoped>\n",
       "    .dataframe tbody tr th:only-of-type {\n",
       "        vertical-align: middle;\n",
       "    }\n",
       "\n",
       "    .dataframe tbody tr th {\n",
       "        vertical-align: top;\n",
       "    }\n",
       "\n",
       "    .dataframe thead th {\n",
       "        text-align: right;\n",
       "    }\n",
       "</style>\n",
       "<table border=\"1\" class=\"dataframe\">\n",
       "  <thead>\n",
       "    <tr style=\"text-align: right;\">\n",
       "      <th></th>\n",
       "      <th>Apt. group</th>\n",
       "      <th>Time-averaged real power (σ) [W]</th>\n",
       "      <th>Number of bedrooms (σ)</th>\n",
       "      <th>Number of all rooms (σ)</th>\n",
       "      <th>Apt. area (σ) [m2]</th>\n",
       "    </tr>\n",
       "  </thead>\n",
       "  <tbody>\n",
       "    <tr>\n",
       "      <th>0</th>\n",
       "      <td>AG01</td>\n",
       "      <td>-1.000000</td>\n",
       "      <td>-0.888889</td>\n",
       "      <td>-0.941176</td>\n",
       "      <td>-0.925234</td>\n",
       "    </tr>\n",
       "    <tr>\n",
       "      <th>1</th>\n",
       "      <td>AG02</td>\n",
       "      <td>-0.935697</td>\n",
       "      <td>-0.777778</td>\n",
       "      <td>-0.529412</td>\n",
       "      <td>-0.644860</td>\n",
       "    </tr>\n",
       "    <tr>\n",
       "      <th>2</th>\n",
       "      <td>AG03</td>\n",
       "      <td>-0.896125</td>\n",
       "      <td>-0.777778</td>\n",
       "      <td>-0.882353</td>\n",
       "      <td>-0.869159</td>\n",
       "    </tr>\n",
       "    <tr>\n",
       "      <th>3</th>\n",
       "      <td>AG04</td>\n",
       "      <td>-0.873042</td>\n",
       "      <td>-1.000000</td>\n",
       "      <td>-1.000000</td>\n",
       "      <td>-1.000000</td>\n",
       "    </tr>\n",
       "    <tr>\n",
       "      <th>4</th>\n",
       "      <td>AG05</td>\n",
       "      <td>-0.836768</td>\n",
       "      <td>-0.555556</td>\n",
       "      <td>-0.352941</td>\n",
       "      <td>-0.383178</td>\n",
       "    </tr>\n",
       "  </tbody>\n",
       "</table>\n",
       "</div>"
      ],
      "text/plain": [
       "  Apt. group  Time-averaged real power (σ) [W]  Number of bedrooms (σ)  \\\n",
       "0       AG01                         -1.000000               -0.888889   \n",
       "1       AG02                         -0.935697               -0.777778   \n",
       "2       AG03                         -0.896125               -0.777778   \n",
       "3       AG04                         -0.873042               -1.000000   \n",
       "4       AG05                         -0.836768               -0.555556   \n",
       "\n",
       "   Number of all rooms (σ)  Apt. area (σ) [m2]  \n",
       "0                -0.941176           -0.925234  \n",
       "1                -0.529412           -0.644860  \n",
       "2                -0.882353           -0.869159  \n",
       "3                -1.000000           -1.000000  \n",
       "4                -0.352941           -0.383178  "
      ]
     },
     "execution_count": 4,
     "metadata": {},
     "output_type": "execute_result"
    }
   ],
   "source": [
    "\n",
    "scaler_meta = MinMaxScaler(feature_range=(-1, 1))\n",
    "\n",
    "df_meta[df_meta.columns[1:]] = scaler_meta.fit_transform(df_meta[df_meta.columns[1:]]) # scale the meta data\n",
    "\n",
    "df_meta.head()"
   ]
  },
  {
   "cell_type": "code",
   "execution_count": 5,
   "metadata": {},
   "outputs": [],
   "source": [
    "\n",
    "\n",
    "df_meta.rename(columns={'Apt. group': 'apartment'}, inplace=True)\n",
    "df.set_index('DateTimeUTC', inplace=True)\n"
   ]
  },
  {
   "cell_type": "code",
   "execution_count": 6,
   "metadata": {},
   "outputs": [],
   "source": [
    "def timeseries_dataframe_pivot(df):\n",
    "    df['date'] = df.index.date\n",
    "    df['time'] = df.index.time\n",
    "\n",
    "    df_pivot = df.pivot(index='date', columns='time')\n",
    "\n",
    "    n_days, n_timesteps = df_pivot.shape\n",
    "\n",
    "    df_pivot.dropna(thresh = n_timesteps // 5, inplace=True)\n",
    "\n",
    "    df_pivot = df_pivot.fillna(method='ffill', axis = 0)\n",
    "\n",
    "    df_pivot = df_pivot.droplevel(0, axis=1)\n",
    "\n",
    "    df_pivot.columns.name = None\n",
    "\n",
    "    return df_pivot\n",
    "\n",
    "\n",
    "def data_augmentation(df, n_samples=1000, noise=0.1, scale=0.1, shift_range=(-2,2)):\n",
    "    df = df.copy()\n",
    "    df_list = []\n",
    "    for i in range(n_samples):\n",
    "        df_noise = df + np.random.normal(0, noise, df.shape)\n",
    "        shift_value = np.random.uniform(shift_range[0], shift_range[1])\n",
    "        df_shift = pd.DataFrame(np.roll(df_noise.values, int(shift_value), axis=1), columns=df.columns, index=df.index)\n",
    "        df_scale = df_shift * (1 + np.random.normal(0, scale, df.shape))\n",
    "        # set negative values to zero\n",
    "        df_scale[df_scale < 0] = 0\n",
    "        # set values above 1 to 1\n",
    "        df_scale[df_scale > 1] = 1\n",
    "        df_list.append(df_scale)\n",
    "    return pd.concat(df_list, axis=0)\n",
    "\n",
    "\n",
    "\n"
   ]
  },
  {
   "cell_type": "code",
   "execution_count": 7,
   "metadata": {},
   "outputs": [],
   "source": [
    "# Data augmentation and merging with meta data\n",
    "\n",
    "list_df_ready = []\n",
    "\n",
    "for name, group in df[[\"kW\", \"apartment\"]].groupby('apartment'):\n",
    "    df_pivot = timeseries_dataframe_pivot(group[[\"kW\"]]).iloc[1:, :]\n",
    "    df_pivot_augmented = data_augmentation(df_pivot, n_samples=20, noise=0.02, scale=0.02)\n",
    "    #df_pivot_augmented = df_pivot\n",
    "    df_meta_data_columns = df_meta.loc[df_meta['apartment'] == name].iloc[:,2:]\n",
    "    df_pivot_augmented[[\"bedrooms\", \"rooms\", \"area\"]] = np.repeat(df_meta_data_columns.values, df_pivot_augmented.shape[0], axis=0)\n",
    "    list_df_ready.append(df_pivot_augmented)\n",
    "\n",
    "df_ready = pd.concat(list_df_ready, axis=0)\n",
    "\n"
   ]
  },
  {
   "cell_type": "code",
   "execution_count": 9,
   "metadata": {},
   "outputs": [],
   "source": [
    "df_ready.to_csv(\"../data/apartment_load_data_hourly_not_augmented.csv\")"
   ]
  },
  {
   "cell_type": "code",
   "execution_count": 228,
   "metadata": {},
   "outputs": [
    {
     "data": {
      "text/plain": [
       "9490"
      ]
     },
     "execution_count": 228,
     "metadata": {},
     "output_type": "execute_result"
    }
   ],
   "source": [
    "365*26"
   ]
  },
  {
   "cell_type": "code",
   "execution_count": 12,
   "metadata": {},
   "outputs": [],
   "source": [
    "df_ready.iloc[:, :-3].to_csv(\"../data/apartment_autoencoder.csv\")"
   ]
  },
  {
   "cell_type": "code",
   "execution_count": null,
   "metadata": {},
   "outputs": [],
   "source": []
  }
 ],
 "metadata": {
  "kernelspec": {
   "display_name": "gpu2",
   "language": "python",
   "name": "python3"
  },
  "language_info": {
   "codemirror_mode": {
    "name": "ipython",
    "version": 3
   },
   "file_extension": ".py",
   "mimetype": "text/x-python",
   "name": "python",
   "nbconvert_exporter": "python",
   "pygments_lexer": "ipython3",
   "version": "3.10.9"
  },
  "orig_nbformat": 4
 },
 "nbformat": 4,
 "nbformat_minor": 2
}
