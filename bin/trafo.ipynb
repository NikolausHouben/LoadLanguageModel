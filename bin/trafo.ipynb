{
 "cells": [
  {
   "attachments": {},
   "cell_type": "markdown",
   "metadata": {},
   "source": [
    "# Implementing Transformers with PyTorch Lightning"
   ]
  },
  {
   "cell_type": "code",
   "execution_count": 1,
   "metadata": {},
   "outputs": [
    {
     "name": "stderr",
     "output_type": "stream",
     "text": [
      "Failed to detect the name of this notebook, you can set it manually with the WANDB_NOTEBOOK_NAME environment variable to enable code saving.\n",
      "\u001b[34m\u001b[1mwandb\u001b[0m: Currently logged in as: \u001b[33mnikolaushouben\u001b[0m (\u001b[33mwattcast\u001b[0m). Use \u001b[1m`wandb login --relogin`\u001b[0m to force relogin\n"
     ]
    },
    {
     "data": {
      "text/plain": [
       "True"
      ]
     },
     "execution_count": 1,
     "metadata": {},
     "output_type": "execute_result"
    }
   ],
   "source": [
    "import os, sys\n",
    "\n",
    "import torch\n",
    "import torch.nn as nn\n",
    "import torch.nn.functional as F\n",
    "from torch.utils.data import Dataset, DataLoader\n",
    "import torch.optim as optim\n",
    "import pytorch_lightning as pl\n",
    "from pytorch_lightning import LightningModule\n",
    "from pytorch_lightning.callbacks import ModelCheckpoint, EarlyStopping, Callback\n",
    "from torch.optim.lr_scheduler import ReduceLROnPlateau\n",
    "from pytorch_lightning.loggers import WandbLogger\n",
    "from PIL import Image\n",
    "from matplotlib.backends.backend_agg import FigureCanvasAgg as FigureCanvas\n",
    "from io import BytesIO\n",
    "\n",
    "import numpy as np\n",
    "import matplotlib.pyplot as plt\n",
    "import pandas as pd\n",
    "from sklearn.preprocessing import MinMaxScaler\n",
    "import plotly.express as px\n",
    "from special_loss_fn import DilateLoss\n",
    "\n",
    "import wandb\n",
    "wandb.login()\n",
    "\n",
    "\n"
   ]
  },
  {
   "cell_type": "markdown",
   "metadata": {},
   "source": [
    "# Encoder Transformer for Forecasting"
   ]
  },
  {
   "cell_type": "code",
   "execution_count": 2,
   "metadata": {},
   "outputs": [],
   "source": [
    "class ElectricalLoadDataset(Dataset):\n",
    "    def __init__(self, data_dir, \n",
    "                input_chunk_size,\n",
    "                output_chunk_size, \n",
    "                scaler = None,\n",
    "                timeenc=False,\n",
    "                split='train', \n",
    "                train_ratio=0.8, val_ratio=0.1, test_ratio=0.1, SFH = [-1]):\n",
    "        \n",
    "        \n",
    "        self.input_chunk_size = input_chunk_size\n",
    "        self.output_chunk_size = output_chunk_size\n",
    "        self.scaler = scaler\n",
    "        self.timeenc = timeenc\n",
    "        self.SFH = SFH\n",
    "\n",
    "        load_series = self._load_data(data_dir)\n",
    "\n",
    "        if self.scaler is None and split == 'train':\n",
    "            self.scaler = MinMaxScaler()\n",
    "            self.scaler.fit(load_series[:int(train_ratio * len(load_series))])\n",
    "\n",
    "        if split == 'train':\n",
    "            self.load_series = self.scaler.transform(load_series[:int(train_ratio * len(load_series))])\n",
    "        elif split == 'val':\n",
    "            self.load_series = self.scaler.transform(load_series[int(train_ratio * len(load_series)):int((train_ratio + val_ratio) * len(load_series))])\n",
    "        elif split == 'test':\n",
    "            self.load_series = self.scaler.transform(load_series[int((train_ratio + val_ratio) * len(load_series)):])\n",
    "\n",
    "\n",
    "    def __len__(self):\n",
    "        return len(self.load_series) - self.input_chunk_size - self.output_chunk_size + 1\n",
    "\n",
    "    def __getitem__(self, idx):\n",
    "        input_chunk = self.load_series[idx:idx+self.input_chunk_size]\n",
    "        output_chunk = self.load_series[idx+self.input_chunk_size-1:idx+self.input_chunk_size+self.output_chunk_size-1]\n",
    "\n",
    "\n",
    "        return input_chunk, output_chunk\n",
    "\n",
    "    def _load_data(self, data_dir):\n",
    "        df = pd.read_csv(os.path.join(data_dir, 'load_data_15min_watts.csv'), index_col=0, parse_dates=True)[:15000]\n",
    "        \n",
    "        #for SFH in self.SFH:\n",
    "        df = df.iloc[:, self.SFH]\n",
    "\n",
    "        # stack the df columns into a single series keeping the index\n",
    "        #df = df.stack().reset_index(level=1, drop=True)\n",
    "        if self.timeenc == 1:\n",
    "            df = self.timeenc_1(df)\n",
    "        elif self.timeenc == 2:\n",
    "            df = self.timeenc_2(df)\n",
    "        else:\n",
    "            pass\n",
    "\n",
    "\n",
    "        return df.values\n",
    "            \n",
    "    def timeenc_1(self, df):\n",
    "        # minute of the day\n",
    "        df['minute'] = df.index.hour * 60 + df.index.minute\n",
    "        # day of the week\n",
    "        df['dayofweek'] = df.index.dayofweek\n",
    "        return df\n",
    "\n",
    "    def timeenc_2(self, df):\n",
    "        #trigonometric encoding of the minute of the day\n",
    "        df['minute_sin'] = np.sin(2 * np.pi * df.index.hour * 60 + df.index.minute / (24 * 60))\n",
    "        df['minute_cos'] = np.cos(2 * np.pi * df.index.hour * 60 + df.index.minute / (24 * 60))\n",
    "        #trigonometric encoding of the day of the week\n",
    "        df['dayofweek_sin'] = np.sin(2 * np.pi * df.index.dayofweek / 7)\n",
    "        df['dayofweek_cos'] = np.cos(2 * np.pi * df.index.dayofweek / 7)\n",
    "        return df\n",
    "\n",
    "\n",
    "\n",
    "def worker_init_fn(worker_id):\n",
    "    np.random.seed(42 + worker_id)\n",
    "\n",
    "class ElectricalLoadDataLoader(DataLoader):\n",
    "    def __init__(self, *args, **kwargs):\n",
    "        super(ElectricalLoadDataLoader, self).__init__(*args, **kwargs)\n",
    "        self.collate_fn = self.collate_fn_\n",
    "\n",
    "    def collate_fn_(self, batch):\n",
    "        input_chunks, output_chunks = zip(*batch)\n",
    "        input_chunks, output_chunks = np.stack(input_chunks), np.stack(output_chunks)\n",
    "        input_tensor = torch.FloatTensor(input_chunks)\n",
    "        output_tensor = torch.FloatTensor(output_chunks)\n",
    "        return input_tensor, output_tensor\n",
    "    "
   ]
  },
  {
   "attachments": {},
   "cell_type": "markdown",
   "metadata": {},
   "source": [
    "TODOS:\n",
    "\n",
    "    * Hyperparameter tuning with wandb or optuna\n",
    "    * Data Augmentation for time series\n",
    "    * Data Module Class\n"
   ]
  },
  {
   "cell_type": "code",
   "execution_count": 3,
   "metadata": {},
   "outputs": [],
   "source": [
    "class EncoderTransformer(pl.LightningModule):\n",
    "    def __init__(self, input_size, output_size, d_model, nhead, num_layers, dropout, loss_fn, lr=0.001):\n",
    "        super().__init__()\n",
    "        self.input_size = input_size\n",
    "        self.output_size = output_size\n",
    "        self.d_model = d_model\n",
    "        self.nhead = nhead\n",
    "        self.num_layers = num_layers\n",
    "        self.dropout = dropout\n",
    "        self.loss_fn = loss_fn\n",
    "        self.lr = lr\n",
    "\n",
    "        self.linear = nn.Linear(input_size, d_model)\n",
    "        self.encoder_layer = nn.TransformerEncoderLayer(d_model=d_model, nhead=nhead, dropout=dropout)\n",
    "        self.transformer_encoder = nn.TransformerEncoder(self.encoder_layer, num_layers=num_layers)\n",
    "        self.decoder = nn.Linear(d_model, 1)\n",
    "\n",
    "    def forward(self, src, trg=None):\n",
    "        src = self.linear(src)\n",
    "        output = self.transformer_encoder(src)\n",
    "        output = self.decoder(output)\n",
    "        return output\n",
    "\n",
    "\n",
    "    def training_step(self, batch):\n",
    "        src, trg = batch\n",
    "        trg = trg[:, :, :1]\n",
    "        output = self(src, trg)\n",
    "        loss = self.loss_fn(output, trg)\n",
    "        #loss = F.mse_loss(output, trg)\n",
    "        self.log('train_loss', loss)\n",
    "        return loss\n",
    "\n",
    "    def validation_step(self, batch, batch_idx):\n",
    "        src, trg = batch\n",
    "        trg = trg[:, :,:1]\n",
    "        output = self(src)\n",
    "        loss = self.loss_fn(output, trg)\n",
    "        self.log('val_loss', loss)\n",
    "        if batch_idx == 0:\n",
    "            buffers = self._plot_predictions(output, trg)\n",
    "            # Combine the image buffers into a single image\n",
    "            images = [np.array(Image.open(buffer)) for buffer in buffers]\n",
    "            combined_image = np.concatenate(images, axis=1)\n",
    "            # Log the combined image to WandB\n",
    "            wandb.log({\"predictions_val_dataset\": wandb.Image(combined_image)})\n",
    "        return loss\n",
    "    \n",
    "    def test_step(self, batch, batch_idx):\n",
    "        src, trg = batch\n",
    "        trg = trg[:, :, :1]\n",
    "        output = self(src)\n",
    "        loss = self.loss_fn(output, trg)\n",
    "        self.log('test_loss', loss)\n",
    "        if batch_idx == 0:\n",
    "            buffers = self._plot_predictions(output, trg)\n",
    "            # Combine the image buffers into a single image\n",
    "            images = [np.array(Image.open(buffer)) for buffer in buffers]\n",
    "            combined_image = np.concatenate(images, axis=1)\n",
    "            # Log the combined image to WandB\n",
    "            wandb.log({\"predictions_test_dataset\": wandb.Image(combined_image)})\n",
    "        return loss\n",
    "\n",
    "    def _plot_predictions(self, preds, actuals):\n",
    "        preds = preds.detach().cpu().numpy()\n",
    "        actuals = actuals.detach().cpu().numpy()\n",
    "        buffers = []\n",
    "        for i in range(5): # plot 5 sequences\n",
    "            fig, ax = plt.subplots(1, 1, figsize=(20, 10))\n",
    "            # plotting the i-th sequence in the batch\n",
    "            ax.plot(preds[i, :, 0], label='Predictions')\n",
    "            ax.plot(actuals[i, :, 0], label='Actuals')\n",
    "            ax.legend()\n",
    "            # Convert the figure to an image buffer\n",
    "            canvas = FigureCanvas(fig)\n",
    "            buffer = BytesIO()\n",
    "            canvas.print_figure(buffer, format='png')\n",
    "            buffer.seek(0)\n",
    "            # Close the figure to save memory\n",
    "            plt.close(fig)\n",
    "            # Append the image buffer to the list of buffers\n",
    "            buffers.append(buffer)\n",
    "        # Return the list of image buffers\n",
    "        return buffers\n",
    "    \n",
    "    def configure_optimizers(self):\n",
    "        return torch.optim.Adam(self.parameters(), lr=self.lr)\n",
    "    "
   ]
  },
  {
   "cell_type": "code",
   "execution_count": 4,
   "metadata": {},
   "outputs": [
    {
     "data": {
      "application/vnd.jupyter.widget-view+json": {
       "model_id": "e16ab75905a4496d8af5eda718036ffe",
       "version_major": 2,
       "version_minor": 0
      },
      "text/plain": [
       "VBox(children=(Label(value='Waiting for wandb.init()...\\r'), FloatProgress(value=0.016666666666666666, max=1.0…"
      ]
     },
     "metadata": {},
     "output_type": "display_data"
    },
    {
     "data": {
      "text/html": [
       "Tracking run with wandb version 0.14.0"
      ],
      "text/plain": [
       "<IPython.core.display.HTML object>"
      ]
     },
     "metadata": {},
     "output_type": "display_data"
    },
    {
     "data": {
      "text/html": [
       "Run data is saved locally in <code>c:\\Users\\nik\\Desktop\\Berkeley_Projects\\LoadLanguageModel\\bin\\wandb\\run-20230404_144300-7iv2posm</code>"
      ],
      "text/plain": [
       "<IPython.core.display.HTML object>"
      ]
     },
     "metadata": {},
     "output_type": "display_data"
    },
    {
     "data": {
      "text/html": [
       "Syncing run <strong><a href='https://wandb.ai/wattcast/SFH%20Load%20Forecasting/runs/7iv2posm' target=\"_blank\">glamorous-silence-40</a></strong> to <a href='https://wandb.ai/wattcast/SFH%20Load%20Forecasting' target=\"_blank\">Weights & Biases</a> (<a href='https://wandb.me/run' target=\"_blank\">docs</a>)<br/>"
      ],
      "text/plain": [
       "<IPython.core.display.HTML object>"
      ]
     },
     "metadata": {},
     "output_type": "display_data"
    },
    {
     "data": {
      "text/html": [
       " View project at <a href='https://wandb.ai/wattcast/SFH%20Load%20Forecasting' target=\"_blank\">https://wandb.ai/wattcast/SFH%20Load%20Forecasting</a>"
      ],
      "text/plain": [
       "<IPython.core.display.HTML object>"
      ]
     },
     "metadata": {},
     "output_type": "display_data"
    },
    {
     "data": {
      "text/html": [
       " View run at <a href='https://wandb.ai/wattcast/SFH%20Load%20Forecasting/runs/7iv2posm' target=\"_blank\">https://wandb.ai/wattcast/SFH%20Load%20Forecasting/runs/7iv2posm</a>"
      ],
      "text/plain": [
       "<IPython.core.display.HTML object>"
      ]
     },
     "metadata": {},
     "output_type": "display_data"
    },
    {
     "name": "stderr",
     "output_type": "stream",
     "text": [
      "c:\\Users\\nik\\miniconda3\\envs\\gpu2\\lib\\site-packages\\pytorch_lightning\\loggers\\wandb.py:395: UserWarning: There is a wandb run already in progress and newly created instances of `WandbLogger` will reuse this run. If this is not desired, call `wandb.finish()` before instantiating `WandbLogger`.\n",
      "  rank_zero_warn(\n"
     ]
    }
   ],
   "source": [
    "run = wandb.init(project = 'SFH Load Forecasting')\n",
    "wandb_logger = WandbLogger()"
   ]
  },
  {
   "cell_type": "code",
   "execution_count": null,
   "metadata": {},
   "outputs": [],
   "source": []
  },
  {
   "cell_type": "code",
   "execution_count": 9,
   "metadata": {},
   "outputs": [
    {
     "name": "stdout",
     "output_type": "stream",
     "text": [
      "torch.Size([512, 96, 1]) torch.Size([512, 96, 1])\n"
     ]
    }
   ],
   "source": [
    "N_LAGS = 96\n",
    "N_STEPS = 96\n",
    "BATCH_SIZE = 512\n",
    "ENC = 0\n",
    "device = torch.device('cuda:0' if torch.cuda.is_available() else 'cpu')\n",
    "SFH = [8]\n",
    "\n",
    "\n",
    "train = ElectricalLoadDataset(data_dir='../data', input_chunk_size=N_LAGS, output_chunk_size=N_STEPS, split='train', train_ratio=0.8, val_ratio=0.1, test_ratio=0.1, timeenc=ENC, SFH=SFH)\n",
    "train_loader = ElectricalLoadDataLoader(train, batch_size=BATCH_SIZE, shuffle=True, pin_memory=True)\n",
    "val = ElectricalLoadDataset(data_dir='../data', input_chunk_size=N_LAGS, output_chunk_size=N_STEPS, split='val', train_ratio=0.8, val_ratio=0.1, test_ratio=0.1, timeenc=ENC, scaler=train.scaler, SFH=SFH)\n",
    "val_loader = ElectricalLoadDataLoader(val, batch_size=BATCH_SIZE, shuffle=True, pin_memory=True, worker_init_fn=worker_init_fn)\n",
    "test = ElectricalLoadDataset(data_dir='../data', input_chunk_size=N_LAGS, output_chunk_size=N_STEPS, split='test', train_ratio=0.8, val_ratio=0.1, test_ratio=0.1, timeenc=ENC, scaler=train.scaler, SFH=SFH)\n",
    "test_loader = ElectricalLoadDataLoader(test, batch_size=BATCH_SIZE, shuffle=True, pin_memory=True, worker_init_fn=worker_init_fn)\n",
    "\n",
    "\n",
    "\n",
    "for i , (input_chunk, output_chunk) in enumerate(train_loader):\n",
    "    print(input_chunk.shape, output_chunk.shape)\n",
    "    break\n",
    "\n"
   ]
  },
  {
   "cell_type": "code",
   "execution_count": 48,
   "metadata": {},
   "outputs": [
    {
     "data": {
      "text/plain": [
       "<matplotlib.legend.Legend at 0x174bd5cf760>"
      ]
     },
     "execution_count": 48,
     "metadata": {},
     "output_type": "execute_result"
    },
    {
     "data": {
      "image/png": "[encoded data removed]",
      "text/plain": [
       "<Figure size 1000x500 with 1 Axes>"
      ]
     },
     "metadata": {},
     "output_type": "display_data"
    }
   ],
   "source": [
    "# plot the input and output sequences, input on the left, output on the right with an xaixs from 0 to 192\n",
    "\n",
    "fig, ax = plt.subplots(1, 1, figsize=(10, 5))\n",
    "ax.plot(input_chunk[0, :, :], label='Input')\n",
    "ax.plot(np.arange(N_LAGS, N_LAGS + N_STEPS), output_chunk[0, :, :], label='Output')\n",
    "ax.legend()\n",
    "\n"
   ]
  },
  {
   "cell_type": "code",
   "execution_count": 50,
   "metadata": {},
   "outputs": [],
   "source": [
    "HIDDEN_SIZE = 256\n",
    "N_HEADS = 8\n",
    "DROPOUT = 0.2\n",
    "LOSS = F.mse_loss\n",
    "NUM_LAYERS = 6\n",
    "\n",
    "\n",
    "model = EncoderTransformer(input_size=input_chunk.shape[-1] , output_size=1, d_model=HIDDEN_SIZE, nhead=N_HEADS, num_layers=NUM_LAYERS, dropout=DROPOUT,  loss_fn = LOSS)"
   ]
  },
  {
   "cell_type": "code",
   "execution_count": 51,
   "metadata": {},
   "outputs": [
    {
     "name": "stderr",
     "output_type": "stream",
     "text": [
      "c:\\Users\\nik\\miniconda3\\envs\\gpu2\\lib\\site-packages\\pytorch_lightning\\trainer\\connectors\\accelerator_connector.py:478: LightningDeprecationWarning: Setting `Trainer(gpus=1)` is deprecated in v1.7 and will be removed in v2.0. Please use `Trainer(accelerator='gpu', devices=1)` instead.\n",
      "  rank_zero_deprecation(\n",
      "GPU available: True (cuda), used: True\n",
      "TPU available: False, using: 0 TPU cores\n",
      "IPU available: False, using: 0 IPUs\n",
      "HPU available: False, using: 0 HPUs\n",
      "LOCAL_RANK: 0 - CUDA_VISIBLE_DEVICES: [0]\n",
      "\n",
      "  | Name                | Type                    | Params\n",
      "----------------------------------------------------------------\n",
      "0 | loss_fn             | DilateLoss              | 0     \n",
      "1 | linear              | Linear                  | 1.0 K \n",
      "2 | encoder_layer       | TransformerEncoderLayer | 3.2 M \n",
      "3 | transformer_encoder | TransformerEncoder      | 18.9 M\n",
      "4 | decoder             | Linear                  | 513   \n",
      "----------------------------------------------------------------\n",
      "22.1 M    Trainable params\n",
      "0         Non-trainable params\n",
      "22.1 M    Total params\n",
      "88.273    Total estimated model params size (MB)\n"
     ]
    },
    {
     "data": {
      "application/vnd.jupyter.widget-view+json": {
       "model_id": "b8bca37d32ef414a93ea1a996ba1287b",
       "version_major": 2,
       "version_minor": 0
      },
      "text/plain": [
       "Sanity Checking: 0it [00:00, ?it/s]"
      ]
     },
     "metadata": {},
     "output_type": "display_data"
    },
    {
     "name": "stderr",
     "output_type": "stream",
     "text": [
      "c:\\Users\\nik\\miniconda3\\envs\\gpu2\\lib\\site-packages\\pytorch_lightning\\trainer\\connectors\\data_connector.py:488: PossibleUserWarning: Your `val_dataloader`'s sampler has shuffling enabled, it is strongly recommended that you turn shuffling off for val/test/predict dataloaders.\n",
      "  rank_zero_warn(\n",
      "c:\\Users\\nik\\miniconda3\\envs\\gpu2\\lib\\site-packages\\pytorch_lightning\\trainer\\connectors\\data_connector.py:224: PossibleUserWarning: The dataloader, val_dataloader 0, does not have many workers which may be a bottleneck. Consider increasing the value of the `num_workers` argument` (try 8 which is the number of cpus on this machine) in the `DataLoader` init to improve performance.\n",
      "  rank_zero_warn(\n",
      "c:\\Users\\nik\\miniconda3\\envs\\gpu2\\lib\\site-packages\\pytorch_lightning\\trainer\\connectors\\data_connector.py:224: PossibleUserWarning: The dataloader, train_dataloader, does not have many workers which may be a bottleneck. Consider increasing the value of the `num_workers` argument` (try 8 which is the number of cpus on this machine) in the `DataLoader` init to improve performance.\n",
      "  rank_zero_warn(\n",
      "c:\\Users\\nik\\miniconda3\\envs\\gpu2\\lib\\site-packages\\pytorch_lightning\\trainer\\trainer.py:1609: PossibleUserWarning: The number of training batches (24) is smaller than the logging interval Trainer(log_every_n_steps=50). Set a lower value for log_every_n_steps if you want to see logs for the training epoch.\n",
      "  rank_zero_warn(\n"
     ]
    },
    {
     "data": {
      "application/vnd.jupyter.widget-view+json": {
       "model_id": "b3efcade1323460698c7f39a112f4451",
       "version_major": 2,
       "version_minor": 0
      },
      "text/plain": [
       "Training: 0it [00:00, ?it/s]"
      ]
     },
     "metadata": {},
     "output_type": "display_data"
    },
    {
     "data": {
      "application/vnd.jupyter.widget-view+json": {
       "model_id": "7c52e988897e4a60842b6669bdfe83cd",
       "version_major": 2,
       "version_minor": 0
      },
      "text/plain": [
       "Validation: 0it [00:00, ?it/s]"
      ]
     },
     "metadata": {},
     "output_type": "display_data"
    },
    {
     "data": {
      "application/vnd.jupyter.widget-view+json": {
       "model_id": "e61d683af5b842e6acf366ef1a2f4913",
       "version_major": 2,
       "version_minor": 0
      },
      "text/plain": [
       "Validation: 0it [00:00, ?it/s]"
      ]
     },
     "metadata": {},
     "output_type": "display_data"
    },
    {
     "data": {
      "application/vnd.jupyter.widget-view+json": {
       "model_id": "0e6026ac250e4951b77ea7f7a4080559",
       "version_major": 2,
       "version_minor": 0
      },
      "text/plain": [
       "Validation: 0it [00:00, ?it/s]"
      ]
     },
     "metadata": {},
     "output_type": "display_data"
    },
    {
     "data": {
      "application/vnd.jupyter.widget-view+json": {
       "model_id": "d90dd7ffb55246b0b050257082828de2",
       "version_major": 2,
       "version_minor": 0
      },
      "text/plain": [
       "Validation: 0it [00:00, ?it/s]"
      ]
     },
     "metadata": {},
     "output_type": "display_data"
    },
    {
     "data": {
      "application/vnd.jupyter.widget-view+json": {
       "model_id": "f3a616d0a44a4b6091fc4f0df9bd2c9f",
       "version_major": 2,
       "version_minor": 0
      },
      "text/plain": [
       "Validation: 0it [00:00, ?it/s]"
      ]
     },
     "metadata": {},
     "output_type": "display_data"
    },
    {
     "data": {
      "application/vnd.jupyter.widget-view+json": {
       "model_id": "10ec75179ae94a8d86b2cbda0daa60b4",
       "version_major": 2,
       "version_minor": 0
      },
      "text/plain": [
       "Validation: 0it [00:00, ?it/s]"
      ]
     },
     "metadata": {},
     "output_type": "display_data"
    },
    {
     "data": {
      "application/vnd.jupyter.widget-view+json": {
       "model_id": "627c2babb3584e698ccb7aa587438d22",
       "version_major": 2,
       "version_minor": 0
      },
      "text/plain": [
       "Validation: 0it [00:00, ?it/s]"
      ]
     },
     "metadata": {},
     "output_type": "display_data"
    },
    {
     "data": {
      "application/vnd.jupyter.widget-view+json": {
       "model_id": "ee3fe4871b7042eb9086571f33539fc0",
       "version_major": 2,
       "version_minor": 0
      },
      "text/plain": [
       "Validation: 0it [00:00, ?it/s]"
      ]
     },
     "metadata": {},
     "output_type": "display_data"
    },
    {
     "data": {
      "application/vnd.jupyter.widget-view+json": {
       "model_id": "427c735094d54eda8f9768ae8218b75f",
       "version_major": 2,
       "version_minor": 0
      },
      "text/plain": [
       "Validation: 0it [00:00, ?it/s]"
      ]
     },
     "metadata": {},
     "output_type": "display_data"
    },
    {
     "name": "stderr",
     "output_type": "stream",
     "text": [
      "c:\\Users\\nik\\miniconda3\\envs\\gpu2\\lib\\site-packages\\pytorch_lightning\\trainer\\call.py:48: UserWarning: Detected KeyboardInterrupt, attempting graceful shutdown...\n",
      "  rank_zero_warn(\"Detected KeyboardInterrupt, attempting graceful shutdown...\")\n"
     ]
    }
   ],
   "source": [
    "cbs = [EarlyStopping(monitor='val_loss', patience=10, mode='min')]\n",
    "trainer = pl.Trainer(max_epochs=50, logger = wandb_logger, gpus=1 if torch.cuda.is_available() else 0, callbacks=cbs)\n",
    "trainer.fit(model, train_dataloaders=train_loader, val_dataloaders=val_loader)"
   ]
  },
  {
   "cell_type": "code",
   "execution_count": 45,
   "metadata": {},
   "outputs": [
    {
     "name": "stderr",
     "output_type": "stream",
     "text": [
      "LOCAL_RANK: 0 - CUDA_VISIBLE_DEVICES: [0]\n",
      "c:\\Users\\nik\\miniconda3\\envs\\gpu2\\lib\\site-packages\\pytorch_lightning\\trainer\\connectors\\data_connector.py:488: PossibleUserWarning: Your `test_dataloader`'s sampler has shuffling enabled, it is strongly recommended that you turn shuffling off for val/test/predict dataloaders.\n",
      "  rank_zero_warn(\n",
      "c:\\Users\\nik\\miniconda3\\envs\\gpu2\\lib\\site-packages\\pytorch_lightning\\trainer\\connectors\\data_connector.py:224: PossibleUserWarning: The dataloader, test_dataloader 0, does not have many workers which may be a bottleneck. Consider increasing the value of the `num_workers` argument` (try 8 which is the number of cpus on this machine) in the `DataLoader` init to improve performance.\n",
      "  rank_zero_warn(\n"
     ]
    },
    {
     "data": {
      "application/vnd.jupyter.widget-view+json": {
       "model_id": "ce73efb1afdb4a85ab1cb4de120d6174",
       "version_major": 2,
       "version_minor": 0
      },
      "text/plain": [
       "Testing: 0it [00:00, ?it/s]"
      ]
     },
     "metadata": {},
     "output_type": "display_data"
    },
    {
     "name": "stdout",
     "output_type": "stream",
     "text": [
      "────────────────────────────────────────────────────────────────────────────────────────────────────────────────────────\n",
      "       Test metric             DataLoader 0\n",
      "────────────────────────────────────────────────────────────────────────────────────────────────────────────────────────\n",
      "        test_loss          0.004494118504226208\n",
      "────────────────────────────────────────────────────────────────────────────────────────────────────────────────────────\n"
     ]
    }
   ],
   "source": [
    "trainer.test(model, test_loader)\n",
    "torch.cuda.empty_cache()"
   ]
  },
  {
   "cell_type": "code",
   "execution_count": 10,
   "metadata": {},
   "outputs": [],
   "source": [
    "sweep_configuration = {\n",
    "    'method': 'bayes',\n",
    "    'name': 'sweep',\n",
    "    'metric': {\n",
    "        'goal': 'minimize', \n",
    "        'name': 'validation_loss'\n",
    "        },\n",
    "    'parameters': {\n",
    "        #'batch_size': {'values': [16, 32, 64]},\n",
    "        'd_model': {'values': [32, 64, 128]},\n",
    "        'n_heads': {'values': [5, 10, 15]},\n",
    "        'lr': {'max': 0.1, 'min': 0.0001},\n",
    "        'dropout': {'values': [0.1, 0.2, 0.3]},\n",
    "        'num_layers': {'values': [3, 6, 9]},\n",
    "     }\n",
    "}\n",
    "\n",
    "\n",
    "def train_model(config):\n",
    "\n",
    "    run = wandb.init(project = 'SFH Load Forecasting')\n",
    "    wandb_logger = WandbLogger()\n",
    "\n",
    "    HIDDEN_SIZE = config['parameters']['d_model']\n",
    "    N_HEADS = config['parameters']['n_heads']\n",
    "    DROPOUT = config['parameters']['dropout']\n",
    "    LOSS = F.mse_loss\n",
    "    NUM_LAYERS = config['parameters']['num_layers']\n",
    "\n",
    "    model = EncoderTransformer(input_size=1 , output_size=1, d_model=HIDDEN_SIZE, nhead=N_HEADS, num_layers=NUM_LAYERS, dropout=DROPOUT,  loss_fn = LOSS)\n",
    "    cbs = [EarlyStopping(monitor='val_loss', patience=10, mode='min')]\n",
    "    trainer = pl.Trainer(max_epochs=50, logger = wandb_logger, gpus=1 if torch.cuda.is_available() else 0, callbacks=cbs)\n",
    "    trainer.fit(model, train_dataloaders=train_loader, val_dataloaders=val_loader)\n",
    "    trainer.test(model, test_loader)\n",
    "    torch.cuda.empty_cache()"
   ]
  },
  {
   "cell_type": "code",
   "execution_count": 11,
   "metadata": {},
   "outputs": [
    {
     "name": "stdout",
     "output_type": "stream",
     "text": [
      "Create sweep with ID: vfmc37fm\n",
      "Sweep URL: https://wandb.ai/wattcast/SFH%20Load%20Forecasting/sweeps/vfmc37fm\n"
     ]
    }
   ],
   "source": [
    "sweep_id = wandb.sweep(sweep=sweep_configuration, project='SFH Load Forecasting')\n"
   ]
  },
  {
   "cell_type": "code",
   "execution_count": 12,
   "metadata": {},
   "outputs": [
    {
     "data": {
      "text/html": [
       "Finishing last run (ID:y8edwmdf) before initializing another..."
      ],
      "text/plain": [
       "<IPython.core.display.HTML object>"
      ]
     },
     "metadata": {},
     "output_type": "display_data"
    },
    {
     "data": {
      "text/html": [
       "Waiting for W&B process to finish... <strong style=\"color:green\">(success).</strong>"
      ],
      "text/plain": [
       "<IPython.core.display.HTML object>"
      ]
     },
     "metadata": {},
     "output_type": "display_data"
    },
    {
     "data": {
      "text/html": [
       " View run <strong style=\"color:#cdcd00\">electric-vortex-51</strong> at: <a href='https://wandb.ai/wattcast/SFH%20Load%20Forecasting/runs/y8edwmdf' target=\"_blank\">https://wandb.ai/wattcast/SFH%20Load%20Forecasting/runs/y8edwmdf</a><br/>Synced 6 W&B file(s), 0 media file(s), 0 artifact file(s) and 0 other file(s)"
      ],
      "text/plain": [
       "<IPython.core.display.HTML object>"
      ]
     },
     "metadata": {},
     "output_type": "display_data"
    },
    {
     "data": {
      "text/html": [
       "Find logs at: <code>.\\wandb\\run-20230404_150808-y8edwmdf\\logs</code>"
      ],
      "text/plain": [
       "<IPython.core.display.HTML object>"
      ]
     },
     "metadata": {},
     "output_type": "display_data"
    },
    {
     "data": {
      "text/html": [
       "Successfully finished last run (ID:y8edwmdf). Initializing new run:<br/>"
      ],
      "text/plain": [
       "<IPython.core.display.HTML object>"
      ]
     },
     "metadata": {},
     "output_type": "display_data"
    },
    {
     "data": {
      "application/vnd.jupyter.widget-view+json": {
       "model_id": "313c6486302440378e3490949149fb51",
       "version_major": 2,
       "version_minor": 0
      },
      "text/plain": [
       "VBox(children=(Label(value='Waiting for wandb.init()...\\r'), FloatProgress(value=0.016666666666666666, max=1.0…"
      ]
     },
     "metadata": {},
     "output_type": "display_data"
    },
    {
     "data": {
      "text/html": [
       "Tracking run with wandb version 0.14.0"
      ],
      "text/plain": [
       "<IPython.core.display.HTML object>"
      ]
     },
     "metadata": {},
     "output_type": "display_data"
    },
    {
     "data": {
      "text/html": [
       "Run data is saved locally in <code>c:\\Users\\nik\\Desktop\\Berkeley_Projects\\LoadLanguageModel\\bin\\wandb\\run-20230404_150922-l1rp9h5b</code>"
      ],
      "text/plain": [
       "<IPython.core.display.HTML object>"
      ]
     },
     "metadata": {},
     "output_type": "display_data"
    },
    {
     "data": {
      "text/html": [
       "Syncing run <strong><a href='https://wandb.ai/wattcast/SFH%20Load%20Forecasting/runs/l1rp9h5b' target=\"_blank\">graceful-valley-53</a></strong> to <a href='https://wandb.ai/wattcast/SFH%20Load%20Forecasting' target=\"_blank\">Weights & Biases</a> (<a href='https://wandb.me/run' target=\"_blank\">docs</a>)<br/>"
      ],
      "text/plain": [
       "<IPython.core.display.HTML object>"
      ]
     },
     "metadata": {},
     "output_type": "display_data"
    },
    {
     "data": {
      "text/html": [
       " View project at <a href='https://wandb.ai/wattcast/SFH%20Load%20Forecasting' target=\"_blank\">https://wandb.ai/wattcast/SFH%20Load%20Forecasting</a>"
      ],
      "text/plain": [
       "<IPython.core.display.HTML object>"
      ]
     },
     "metadata": {},
     "output_type": "display_data"
    },
    {
     "data": {
      "text/html": [
       " View run at <a href='https://wandb.ai/wattcast/SFH%20Load%20Forecasting/runs/l1rp9h5b' target=\"_blank\">https://wandb.ai/wattcast/SFH%20Load%20Forecasting/runs/l1rp9h5b</a>"
      ],
      "text/plain": [
       "<IPython.core.display.HTML object>"
      ]
     },
     "metadata": {},
     "output_type": "display_data"
    },
    {
     "name": "stderr",
     "output_type": "stream",
     "text": [
      "c:\\Users\\nik\\miniconda3\\envs\\gpu2\\lib\\site-packages\\pytorch_lightning\\loggers\\wandb.py:395: UserWarning: There is a wandb run already in progress and newly created instances of `WandbLogger` will reuse this run. If this is not desired, call `wandb.finish()` before instantiating `WandbLogger`.\n",
      "  rank_zero_warn(\n"
     ]
    },
    {
     "ename": "TypeError",
     "evalue": "empty() received an invalid combination of arguments - got (tuple, dtype=NoneType, device=NoneType), but expected one of:\n * (tuple of ints size, *, tuple of names names, torch.memory_format memory_format, torch.dtype dtype, torch.layout layout, torch.device device, bool pin_memory, bool requires_grad)\n * (tuple of SymInts size, *, torch.memory_format memory_format, Tensor out, torch.dtype dtype, torch.layout layout, torch.device device, bool pin_memory, bool requires_grad)\n",
     "output_type": "error",
     "traceback": [
      "\u001b[1;31m---------------------------------------------------------------------------\u001b[0m",
      "\u001b[1;31mTypeError\u001b[0m                                 Traceback (most recent call last)",
      "Cell \u001b[1;32mIn[12], line 1\u001b[0m\n\u001b[1;32m----> 1\u001b[0m wandb\u001b[39m.\u001b[39magent(sweep_id, function\u001b[39m=\u001b[39mtrain_model(sweep_configuration))\n",
      "Cell \u001b[1;32mIn[10], line 30\u001b[0m, in \u001b[0;36mtrain_model\u001b[1;34m(config)\u001b[0m\n\u001b[0;32m     27\u001b[0m LOSS \u001b[39m=\u001b[39m F\u001b[39m.\u001b[39mmse_loss\n\u001b[0;32m     28\u001b[0m NUM_LAYERS \u001b[39m=\u001b[39m config[\u001b[39m'\u001b[39m\u001b[39mparameters\u001b[39m\u001b[39m'\u001b[39m][\u001b[39m'\u001b[39m\u001b[39mnum_layers\u001b[39m\u001b[39m'\u001b[39m]\n\u001b[1;32m---> 30\u001b[0m model \u001b[39m=\u001b[39m EncoderTransformer(input_size\u001b[39m=\u001b[39;49m\u001b[39m1\u001b[39;49m , output_size\u001b[39m=\u001b[39;49m\u001b[39m1\u001b[39;49m, d_model\u001b[39m=\u001b[39;49mHIDDEN_SIZE, nhead\u001b[39m=\u001b[39;49mN_HEADS, num_layers\u001b[39m=\u001b[39;49mNUM_LAYERS, dropout\u001b[39m=\u001b[39;49mDROPOUT,  loss_fn \u001b[39m=\u001b[39;49m LOSS)\n\u001b[0;32m     31\u001b[0m cbs \u001b[39m=\u001b[39m [EarlyStopping(monitor\u001b[39m=\u001b[39m\u001b[39m'\u001b[39m\u001b[39mval_loss\u001b[39m\u001b[39m'\u001b[39m, patience\u001b[39m=\u001b[39m\u001b[39m10\u001b[39m, mode\u001b[39m=\u001b[39m\u001b[39m'\u001b[39m\u001b[39mmin\u001b[39m\u001b[39m'\u001b[39m)]\n\u001b[0;32m     32\u001b[0m trainer \u001b[39m=\u001b[39m pl\u001b[39m.\u001b[39mTrainer(max_epochs\u001b[39m=\u001b[39m\u001b[39m50\u001b[39m, logger \u001b[39m=\u001b[39m wandb_logger, gpus\u001b[39m=\u001b[39m\u001b[39m1\u001b[39m \u001b[39mif\u001b[39;00m torch\u001b[39m.\u001b[39mcuda\u001b[39m.\u001b[39mis_available() \u001b[39melse\u001b[39;00m \u001b[39m0\u001b[39m, callbacks\u001b[39m=\u001b[39mcbs)\n",
      "Cell \u001b[1;32mIn[3], line 13\u001b[0m, in \u001b[0;36mEncoderTransformer.__init__\u001b[1;34m(self, input_size, output_size, d_model, nhead, num_layers, dropout, loss_fn, lr)\u001b[0m\n\u001b[0;32m     10\u001b[0m \u001b[39mself\u001b[39m\u001b[39m.\u001b[39mloss_fn \u001b[39m=\u001b[39m loss_fn\n\u001b[0;32m     11\u001b[0m \u001b[39mself\u001b[39m\u001b[39m.\u001b[39mlr \u001b[39m=\u001b[39m lr\n\u001b[1;32m---> 13\u001b[0m \u001b[39mself\u001b[39m\u001b[39m.\u001b[39mlinear \u001b[39m=\u001b[39m nn\u001b[39m.\u001b[39;49mLinear(input_size, d_model)\n\u001b[0;32m     14\u001b[0m \u001b[39mself\u001b[39m\u001b[39m.\u001b[39mencoder_layer \u001b[39m=\u001b[39m nn\u001b[39m.\u001b[39mTransformerEncoderLayer(d_model\u001b[39m=\u001b[39md_model, nhead\u001b[39m=\u001b[39mnhead, dropout\u001b[39m=\u001b[39mdropout)\n\u001b[0;32m     15\u001b[0m \u001b[39mself\u001b[39m\u001b[39m.\u001b[39mtransformer_encoder \u001b[39m=\u001b[39m nn\u001b[39m.\u001b[39mTransformerEncoder(\u001b[39mself\u001b[39m\u001b[39m.\u001b[39mencoder_layer, num_layers\u001b[39m=\u001b[39mnum_layers)\n",
      "File \u001b[1;32mc:\\Users\\nik\\miniconda3\\envs\\gpu2\\lib\\site-packages\\torch\\nn\\modules\\linear.py:96\u001b[0m, in \u001b[0;36mLinear.__init__\u001b[1;34m(self, in_features, out_features, bias, device, dtype)\u001b[0m\n\u001b[0;32m     94\u001b[0m \u001b[39mself\u001b[39m\u001b[39m.\u001b[39min_features \u001b[39m=\u001b[39m in_features\n\u001b[0;32m     95\u001b[0m \u001b[39mself\u001b[39m\u001b[39m.\u001b[39mout_features \u001b[39m=\u001b[39m out_features\n\u001b[1;32m---> 96\u001b[0m \u001b[39mself\u001b[39m\u001b[39m.\u001b[39mweight \u001b[39m=\u001b[39m Parameter(torch\u001b[39m.\u001b[39mempty((out_features, in_features), \u001b[39m*\u001b[39m\u001b[39m*\u001b[39mfactory_kwargs))\n\u001b[0;32m     97\u001b[0m \u001b[39mif\u001b[39;00m bias:\n\u001b[0;32m     98\u001b[0m     \u001b[39mself\u001b[39m\u001b[39m.\u001b[39mbias \u001b[39m=\u001b[39m Parameter(torch\u001b[39m.\u001b[39mempty(out_features, \u001b[39m*\u001b[39m\u001b[39m*\u001b[39mfactory_kwargs))\n",
      "\u001b[1;31mTypeError\u001b[0m: empty() received an invalid combination of arguments - got (tuple, dtype=NoneType, device=NoneType), but expected one of:\n * (tuple of ints size, *, tuple of names names, torch.memory_format memory_format, torch.dtype dtype, torch.layout layout, torch.device device, bool pin_memory, bool requires_grad)\n * (tuple of SymInts size, *, torch.memory_format memory_format, Tensor out, torch.dtype dtype, torch.layout layout, torch.device device, bool pin_memory, bool requires_grad)\n"
     ]
    }
   ],
   "source": [
    "wandb.agent(sweep_id, function=train_model(sweep_configuration))"
   ]
  },
  {
   "attachments": {},
   "cell_type": "markdown",
   "metadata": {},
   "source": [
    "# Decoder Transformer for Generation"
   ]
  },
  {
   "cell_type": "code",
   "execution_count": 2,
   "metadata": {},
   "outputs": [],
   "source": [
    "class ElectricalLoadDatasetAugmented(Dataset):\n",
    "    def __init__(self, data_dir, \n",
    "                n_output=24,\n",
    "                timeenc=False,\n",
    "                split='train', \n",
    "                train_ratio=0.8, val_ratio=0.1):\n",
    "        \n",
    "\n",
    "        self.timeenc = timeenc\n",
    "        load_series = self._load_data(data_dir)\n",
    "        \n",
    "        self.n_output = n_output\n",
    "\n",
    "        self.input_chunk_len = load_series.shape[1] - self.n_output\n",
    "        self.output_chunk_len = self.n_output\n",
    "\n",
    "        if split == 'train':\n",
    "            self.load_series = load_series[:int(train_ratio * len(load_series))]\n",
    "        elif split == 'val':\n",
    "            self.load_series = load_series[int(train_ratio * len(load_series)):int((train_ratio + val_ratio) * len(load_series))]\n",
    "        elif split == 'test':\n",
    "            self.load_series = load_series[int((train_ratio + val_ratio) * len(load_series)):]\n",
    "\n",
    "\n",
    "    def __len__(self):\n",
    "        return self.load_series.shape[0]\n",
    "    \n",
    "\n",
    "    def __getitem__(self, idx):\n",
    "        input_chunk = self.load_series[idx, -self.input_chunk_len:]\n",
    "        output_chunk = self.load_series[idx, :self.output_chunk_len]\n",
    "\n",
    "        return input_chunk, output_chunk\n",
    "\n",
    "    def _load_data(self, data_dir):\n",
    "        df = pd.read_csv(os.path.join('../data', 'apartment_load_data_hourly_augmented.csv'), index_col=0, parse_dates=True)\n",
    "        \n",
    "\n",
    "        if self.timeenc == 1:\n",
    "            df = self.timeenc_1(df)\n",
    "        else:\n",
    "            pass\n",
    "\n",
    "        return df.values\n",
    "            \n",
    "    def timeenc_1(self, df):\n",
    "        df['dayofweek'] = df.index.dayofweek / 6\n",
    "        return df\n",
    "\n",
    "\n",
    "def worker_init_fn(worker_id):\n",
    "    np.random.seed(42 + worker_id)\n",
    "\n",
    "class ElectricalLoadDataLoader(DataLoader):\n",
    "    def __init__(self, *args, **kwargs):\n",
    "        super(ElectricalLoadDataLoader, self).__init__(*args, **kwargs)\n",
    "        self.collate_fn = self.collate_fn_\n",
    "\n",
    "    def collate_fn_(self, batch):\n",
    "        input_chunks, output_chunks = zip(*batch)\n",
    "        input_chunks, output_chunks = np.stack(input_chunks), np.stack(output_chunks)\n",
    "        input_tensor = torch.FloatTensor(input_chunks)\n",
    "        output_tensor = torch.FloatTensor(output_chunks)\n",
    "        return input_tensor, output_tensor\n",
    "    "
   ]
  },
  {
   "cell_type": "code",
   "execution_count": 4,
   "metadata": {},
   "outputs": [],
   "source": [
    "train_dataset = ElectricalLoadDatasetAugmented(data_dir='../data', n_output=24, timeenc=True, split='train')\n",
    "val_dataset = ElectricalLoadDatasetAugmented(data_dir='../data', n_output=24, timeenc=True, split='val')\n",
    "test_dataset = ElectricalLoadDatasetAugmented(data_dir='../data', n_output=24, timeenc=True, split='test')\n",
    "\n",
    "train_loader = ElectricalLoadDataLoader(train_dataset, batch_size=32, shuffle=True, num_workers=0, worker_init_fn=worker_init_fn)\n",
    "val_loader = ElectricalLoadDataLoader(val_dataset, batch_size=32, shuffle=False, num_workers=0, worker_init_fn=worker_init_fn)\n",
    "test_loader = ElectricalLoadDataLoader(test_dataset, batch_size=32, shuffle=False, num_workers=0, worker_init_fn=worker_init_fn)\n"
   ]
  },
  {
   "cell_type": "code",
   "execution_count": 5,
   "metadata": {},
   "outputs": [
    {
     "name": "stdout",
     "output_type": "stream",
     "text": [
      "torch.Size([32, 4]) torch.Size([32, 24])\n"
     ]
    }
   ],
   "source": [
    "for i , (input_chunk, output_chunk) in enumerate(train_loader):\n",
    "    print(input_chunk.shape, output_chunk.shape)\n",
    "    break\n",
    "\n",
    "\n"
   ]
  },
  {
   "cell_type": "code",
   "execution_count": null,
   "metadata": {},
   "outputs": [],
   "source": [
    "class DecoderTransformerModel(pl.LightningModule):\n",
    "    def __init__(self, input_size, output_size, d_model, nhead, num_layers, dropout, loss_fn, lr=0.001):\n",
    "        super().__init__()\n",
    "        self.input_size = input_size\n",
    "        self.output_size = output_size\n",
    "        self.d_model = d_model\n",
    "        self.nhead = nhead\n",
    "        self.num_layers = num_layers\n",
    "        self.dropout = dropout\n",
    "        self.loss_fn = loss_fn\n",
    "        self.lr = lr\n",
    "\n",
    "        self.linear = nn.Linear(input_size, d_model)\n",
    "        self.encoder_layer = nn.TransformerEncoderLayer(d_model=d_model, nhead=nhead, dropout=dropout)\n",
    "        self.transformer_encoder = nn.TransformerEncoder(self.encoder_layer, num_layers=num_layers)\n",
    "        self.decoder = nn.Linear(d_model, output_size)\n",
    "\n",
    "    def forward(self, src, trg=None):\n",
    "        src = self.linear(src)\n",
    "        output = self.transformer_encoder(src)\n",
    "        output = self.decoder(output)\n",
    "        return output\n",
    "\n",
    "\n",
    "    def training_step(self, batch):\n",
    "        src, trg = batch\n",
    "        output = self(src, trg)\n",
    "        loss = self.loss_fn(output, trg)\n",
    "        #loss = F.mse_loss(output, trg)\n",
    "        self.log('train_loss', loss)\n",
    "        return loss\n",
    "\n",
    "    def validation_step(self, batch, batch_idx):\n",
    "        src, trg = batch\n",
    "        output = self(src)\n",
    "        loss = self.loss_fn(output, trg)\n",
    "        self.log('val_loss', loss)\n",
    "        if batch_idx == 0:\n",
    "            buffers = self._plot_predictions(output, trg)\n",
    "            # Combine the image buffers into a single image\n",
    "            images = [np.array(Image.open(buffer)) for buffer in buffers]\n",
    "            combined_image = np.concatenate(images, axis=1)\n",
    "            # Log the combined image to WandB\n",
    "            wandb.log({\"predictions_val_dataset\": wandb.Image(combined_image)})\n",
    "        return loss\n",
    "    \n",
    "    def test_step(self, batch, batch_idx):\n",
    "        src, trg = batch\n",
    "        output = self(src)\n",
    "        loss = self.loss_fn(output, trg)\n",
    "        self.log('test_loss', loss)\n",
    "        if batch_idx == 0:\n",
    "            buffers = self._plot_predictions(output, trg)\n",
    "            # Combine the image buffers into a single image\n",
    "            images = [np.array(Image.open(buffer)) for buffer in buffers]\n",
    "            combined_image = np.concatenate(images, axis=1)\n",
    "            # Log the combined image to WandB\n",
    "            wandb.log({\"predictions_test_dataset\": wandb.Image(combined_image)})\n",
    "        return loss\n",
    "\n",
    "    def _plot_predictions(self, preds, actuals):\n",
    "        preds = preds.detach().cpu().numpy()\n",
    "        actuals = actuals.detach().cpu().numpy()\n",
    "        buffers = []\n",
    "        for i in range(5): # plot 5 sequences\n",
    "            fig, ax = plt.subplots(1, 1, figsize=(20, 10))\n",
    "            # plotting the i-th sequence in the batch\n",
    "            ax.plot(preds[i, :, 0], label='Predictions')\n",
    "            ax.plot(actuals[i, :, 0], label='Actuals')\n",
    "            ax.legend()\n",
    "            # Convert the figure to an image buffer\n",
    "            canvas = FigureCanvas(fig)\n",
    "            buffer = BytesIO()\n",
    "            canvas.print_figure(buffer, format='png')\n",
    "            buffer.seek(0)\n",
    "            # Close the figure to save memory\n",
    "            plt.close(fig)\n",
    "            # Append the image buffer to the list of buffers\n",
    "            buffers.append(buffer)\n",
    "        # Return the list of image buffers\n",
    "        return buffers\n",
    "    \n",
    "    def configure_optimizers(self):\n",
    "        return torch.optim.Adam(self.parameters(), lr=self.lr)\n",
    "    "
   ]
  }
 ],
 "metadata": {
  "kernelspec": {
   "display_name": "gpu2",
   "language": "python",
   "name": "python3"
  },
  "language_info": {
   "codemirror_mode": {
    "name": "ipython",
    "version": 3
   },
   "file_extension": ".py",
   "mimetype": "text/x-python",
   "name": "python",
   "nbconvert_exporter": "python",
   "pygments_lexer": "ipython3",
   "version": "3.10.9"
  },
  "orig_nbformat": 4
 },
 "nbformat": 4,
 "nbformat_minor": 2
}
